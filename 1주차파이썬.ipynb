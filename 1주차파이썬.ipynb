{
 "cells": [
  {
   "cell_type": "code",
   "execution_count": 1,
   "id": "03ae160a-612a-4c1d-95c1-6e5bf1dd1e74",
   "metadata": {},
   "outputs": [
    {
     "name": "stdout",
     "output_type": "stream",
     "text": [
      "Hello, Python!\n"
     ]
    }
   ],
   "source": [
    "print(\"Hello, Python!\")"
   ]
  },
  {
   "cell_type": "markdown",
   "id": "ab078c86-5f74-4216-af79-88a2a7ce1e7d",
   "metadata": {},
   "source": [
    "변수선언 및 할당 공부 24.03.11"
   ]
  },
  {
   "cell_type": "code",
   "execution_count": 2,
   "id": "1287d9bf-937d-452f-859b-196ed5c281d8",
   "metadata": {},
   "outputs": [],
   "source": [
    "my_number = 10\n",
    "my_float = 20.5\n",
    "my_string = \"Hello, World!\""
   ]
  },
  {
   "cell_type": "code",
   "execution_count": 3,
   "id": "3c9fd3eb-7b98-4d4a-ba53-944f3ef50607",
   "metadata": {},
   "outputs": [
    {
     "name": "stdout",
     "output_type": "stream",
     "text": [
      "10\n",
      "20.5\n",
      "Hello, World!\n",
      "30.5\n"
     ]
    }
   ],
   "source": [
    "# 변수 값을 출력하기\n",
    "print(my_number)\n",
    "print(my_float)\n",
    "print(my_string)\n",
    "\n",
    "# 변수를 사용한 간단한 연산\n",
    "sum = my_number + my_float\n",
    "print(sum)\n"
   ]
  },
  {
   "cell_type": "markdown",
   "id": "ff3f5d4f-2b4b-4541-a590-9fd554382d2f",
   "metadata": {},
   "source": [
    "파이썬에서는 변수를 선언할 때 C언어처럼 변수의 타입을 명시적으로 선언할 필요가 없음. 파이썬은 동적 타이핑 언어라서 변수에 값을 할당할 때 변수의 타입이 결정"
   ]
  },
  {
   "cell_type": "code",
   "execution_count": 4,
   "id": "d1da307d-945a-4316-a91d-002f2b536b43",
   "metadata": {},
   "outputs": [
    {
     "name": "stdout",
     "output_type": "stream",
     "text": [
      "<class 'int'>\n",
      "<class 'float'>\n",
      "<class 'str'>\n"
     ]
    }
   ],
   "source": [
    "my_var = 10      # my_var는 정수(int)\n",
    "print(type(my_var))  # <class 'int'>\n",
    "\n",
    "my_var = 20.5    # my_var에 부동소수점(float) 값을 재할당\n",
    "print(type(my_var))  # <class 'float'>\n",
    "\n",
    "my_var = \"Hello\" # my_var에 문자열(str) 값을 재할당\n",
    "print(type(my_var))  # <class 'str'>\n"
   ]
  },
  {
   "cell_type": "markdown",
   "id": "e4958b33-13ce-4194-93a6-0c74b170e1df",
   "metadata": {},
   "source": [
    "유연성 때문에 변수의 타입을 주의 깊게 추적해야 할 수도 있음, 특히 복잡한 프로그램을 작성할 때는 타입 관련 버그가 발생하지 않도록 주의해야 함."
   ]
  },
  {
   "cell_type": "markdown",
   "id": "05892cc3-59bc-4c59-8c7b-390e906e3a7e",
   "metadata": {},
   "source": [
    "데이터 타입\n",
    "파이썬에는 여러 가지 기본 데이터 타입이 있어. 앞서 언급한 정수(int), 부동소수점 수(float), 문자열(str) 외에도 다음과 같은 타입들이 있어:\n",
    "\n",
    "불리언(Bool): 참(True) 또는 거짓(False) 값을 나타내. 조건문과 논리 연산에서 주로 사용돼.\n",
    "리스트(List): 여러 값을 순서대로 저장하는 데 사용되는 컬렉션이야. 대괄호 []를 사용해 정의하고, 내부의 값들은 쉼표로 구분해.\n",
    "튜플(Tuple): 리스트와 비슷하지만, 한 번 생성된 후에는 내용을 변경할 수 없어 (불변). 소괄호 ()를 사용해 정의해.\n",
    "딕셔너리(Dict): 키(key)와 값(value)의 쌍으로 데이터를 저장하는 데 사용돼. 중괄호 {}를 사용해 정의하고, 각 키와 값은 콜론으로 구분돼."
   ]
  },
  {
   "cell_type": "markdown",
   "id": "cbdb4222-86ec-498c-849b-2d79f6efa378",
   "metadata": {},
   "source": [
    "변수를 사용한 연산"
   ]
  },
  {
   "cell_type": "code",
   "execution_count": 5,
   "id": "34c09db3-5bbc-49e1-9c9c-0a986a6b70c5",
   "metadata": {},
   "outputs": [
    {
     "name": "stdout",
     "output_type": "stream",
     "text": [
      "15\n",
      "50\n",
      "2.0\n"
     ]
    }
   ],
   "source": [
    "a = 10\n",
    "b = 5\n",
    "sum = a + b\n",
    "product = a * b\n",
    "quotient = a / b\n",
    "\n",
    "print(sum)      # 15\n",
    "print(product)  # 50\n",
    "print(quotient) # 2.0\n"
   ]
  },
  {
   "cell_type": "markdown",
   "id": "d9638899-7fec-48f0-8310-d9090e43c2b4",
   "metadata": {},
   "source": [
    "문자열과 변수"
   ]
  },
  {
   "cell_type": "code",
   "execution_count": 6,
   "id": "da2dae47-04bb-40c0-a454-858a61d4c4d5",
   "metadata": {},
   "outputs": [
    {
     "name": "stdout",
     "output_type": "stream",
     "text": [
      "Hello, world!\n"
     ]
    }
   ],
   "source": [
    "name = \"world\"\n",
    "greeting = f\"Hello, {name}!\"\n",
    "print(greeting)  # Hello, world!\n"
   ]
  },
  {
   "cell_type": "markdown",
   "id": "32b32325-e2bf-4d16-bea6-b9aaa638b643",
   "metadata": {},
   "source": [
    "변수와 데이터 타입 변환"
   ]
  },
  {
   "cell_type": "code",
   "execution_count": 7,
   "id": "18924c31-6087-4d8e-a78e-6b3c50106924",
   "metadata": {},
   "outputs": [
    {
     "name": "stdout",
     "output_type": "stream",
     "text": [
      "123\n"
     ]
    }
   ],
   "source": [
    "number_string = \"123\"\n",
    "number_int = int(number_string)  # 문자열을 정수로 변환\n",
    "\n",
    "print(number_int)  # 123\n"
   ]
  },
  {
   "cell_type": "markdown",
   "id": "22c03844-c2dd-421f-9179-17091956b16c",
   "metadata": {},
   "source": [
    "주요 데이터 타입\n",
    "숫자형\n",
    "\n",
    "정수 (Integers): 음수, 0, 양수를 포함하는 모든 정수. 예: 10, -3\n",
    "부동소수점 수 (Floats): 소수점이 포함된 숫자. 예: 10.5, -3.2\n",
    "문자열 (Strings)\n",
    "\n",
    "텍스트를 표현하기 위한 데이터 타입. 작은따옴표(')나 큰따옴표(\")로 묶어서 표현. 예: \"Hello\", 'Python'\n",
    "부울 (Booleans)\n",
    "\n",
    "참(True)과 거짓(False)만을 가지는 타입. 조건문과 논리 연산에서 주로 사용.\n",
    "기본 연산자\n",
    "산술 연산자\n",
    "\n",
    "+ (덧셈), - (뺄셈), * (곱셈), / (나눗셈)\n",
    "// (정수 나눗셈), % (나머지), ** (거듭제곱)\n",
    "비교 연산자\n",
    "\n",
    "== (같음), != (다름), < (미만), > (초과), <= (이하), >= (이상)\n",
    "논리 연산자\n",
    "\n",
    "and, or, not"
   ]
  },
  {
   "cell_type": "code",
   "execution_count": 8,
   "id": "e23fd0af-d752-435c-b96e-4a318a63d34c",
   "metadata": {},
   "outputs": [
    {
     "name": "stdout",
     "output_type": "stream",
     "text": [
      "13\n",
      "7\n",
      "30\n",
      "3.3333333333333335\n",
      "3\n",
      "1\n",
      "1000\n",
      "Python Language\n",
      "True\n",
      "False\n",
      "True\n"
     ]
    }
   ],
   "source": [
    "# 숫자형 연산\n",
    "a = 10\n",
    "b = 3\n",
    "print(a + b)  # 덧셈\n",
    "print(a - b)  # 뺄셈\n",
    "print(a * b)  # 곱셈\n",
    "print(a / b)  # 나눗셈\n",
    "print(a // b) # 정수 나눗셈\n",
    "print(a % b)  # 나머지\n",
    "print(a ** b) # 거듭제곱\n",
    "\n",
    "# 문자열 연산\n",
    "first_name = \"Python\"\n",
    "last_name = \"Language\"\n",
    "full_name = first_name + \" \" + last_name  # 문자열 결합\n",
    "print(full_name)\n",
    "\n",
    "# 부울 연산\n",
    "print(a > b)  # True\n",
    "print(a == b)  # False\n",
    "print(not (a == b))  # True\n"
   ]
  },
  {
   "cell_type": "markdown",
   "id": "9cca85b5-f360-4ea1-978b-8dcaf9c8c373",
   "metadata": {},
   "source": [
    "조건문 (if, elif, else)\n",
    "조건문은 특정 조건에 따라 다른 코드를 실행하게 하는 구조야. Python에서는 if, elif (else if의 줄임말), 그리고 else 키워드를 사용해 조건문을 구성해."
   ]
  },
  {
   "cell_type": "code",
   "execution_count": 9,
   "id": "48944c37-9be2-4184-966b-ffb4f9c7fbe6",
   "metadata": {},
   "outputs": [
    {
     "name": "stdout",
     "output_type": "stream",
     "text": [
      "x가 y보다 작습니다\n"
     ]
    }
   ],
   "source": [
    "x = 10\n",
    "y = 20\n",
    "\n",
    "if x > y:\n",
    "    print(\"x가 y보다 큽니다\")\n",
    "elif x < y:\n",
    "    print(\"x가 y보다 작습니다\")\n",
    "else:\n",
    "    print(\"x와 y가 같습니다\")\n"
   ]
  },
  {
   "cell_type": "markdown",
   "id": "a4473210-bb0d-4db9-9aed-cd52a30202da",
   "metadata": {},
   "source": [
    "반복문 (for, while)\n",
    "반복문은 특정 조건이 참인 동안, 또는 주어진 시퀀스(리스트, 딕셔너리, 문자열 등)를 순회하면서, 코드 블록을 반복적으로 실행하게 해줘."
   ]
  },
  {
   "cell_type": "code",
   "execution_count": 11,
   "id": "4dc55394-90bb-40b3-839e-f7410f36dd9a",
   "metadata": {},
   "outputs": [
    {
     "name": "stdout",
     "output_type": "stream",
     "text": [
      "apple\n",
      "banana\n",
      "cherry\n"
     ]
    }
   ],
   "source": [
    "#for 반복문\n",
    "#for 반복문은 시퀀스를 순회할 때 사용돼. 예를 들어, 리스트의 각 요소에 대해 반복적으로 작업을 수행할 수 있어.\n",
    "\n",
    "fruits = [\"apple\", \"banana\", \"cherry\"]\n",
    "for fruit in fruits:\n",
    "    print(fruit)"
   ]
  },
  {
   "cell_type": "code",
   "execution_count": 12,
   "id": "979d98b1-2b42-4bad-9b74-1c33c5e73ed8",
   "metadata": {},
   "outputs": [
    {
     "name": "stdout",
     "output_type": "stream",
     "text": [
      "1\n",
      "2\n",
      "3\n",
      "4\n",
      "5\n"
     ]
    }
   ],
   "source": [
    "#while 반복문\n",
    "#while 반복문은 주어진 조건이 참인 동안 코드 블록을 반복적으로 실행해.\n",
    "    \n",
    "i = 1\n",
    "while i < 6:\n",
    "    print(i)\n",
    "    i += 1"
   ]
  },
  {
   "cell_type": "markdown",
   "id": "c11de330-778c-42da-80a3-afd734ecea1b",
   "metadata": {},
   "source": [
    "반복문 제어 (break, continue)\n",
    "break: 현재 속한 반복문을 완전히 종료시켜.\n",
    "continue: 현재 반복의 나머지 부분을 건너뛰고, 다음 반복으로 넘어가게 해."
   ]
  },
  {
   "cell_type": "code",
   "execution_count": 15,
   "id": "ec455dda-e4f0-4196-a017-f2108be3fb87",
   "metadata": {},
   "outputs": [
    {
     "name": "stdout",
     "output_type": "stream",
     "text": [
      "1\n",
      "2\n",
      "3\n",
      "4\n"
     ]
    }
   ],
   "source": [
    "for i in range(1, 10):\n",
    "    if i == 5:\n",
    "        break               #종료\n",
    "    print(i)\n",
    "#이 코드는 1부터 4까지만 출력하고, i가 5가 되면 반복문을 완전히 종료해."
   ]
  },
  {
   "cell_type": "code",
   "execution_count": 14,
   "id": "23ff0fa0-241e-4de6-8c40-d7e478206f9f",
   "metadata": {},
   "outputs": [
    {
     "name": "stdout",
     "output_type": "stream",
     "text": [
      "1\n",
      "2\n",
      "3\n",
      "4\n",
      "6\n",
      "7\n",
      "8\n",
      "9\n"
     ]
    }
   ],
   "source": [
    "for i in range(1, 10):\n",
    "    if i == 5:\n",
    "        continue\n",
    "    print(i)\n",
    "# 이 코드는 1부터 9까지 출력하지만, i가 5일 때는 출력을 건너뛰어."
   ]
  },
  {
   "cell_type": "markdown",
   "id": "db3eee8c-7480-456f-99aa-fc5886385d7e",
   "metadata": {},
   "source": [
    "실습 문제 1: 변수와 기본 연산\n",
    "두 숫자의 합, 차, 곱, 나눗셈의 결과를 출력하는 파이썬 프로그램을 작성해보자.\n",
    "사용자로부터 두 숫자를 입력받아 위의 연산을 수행하도록 수정해보자."
   ]
  },
  {
   "cell_type": "code",
   "execution_count": 18,
   "id": "2abb12d6-10aa-4aee-a7a3-dfb3f47bcd40",
   "metadata": {},
   "outputs": [
    {
     "name": "stdin",
     "output_type": "stream",
     "text": [
      "첫번째 숫자를 입력하세요:  5\n",
      "두번째 숫자를 입력하세요:  3\n"
     ]
    },
    {
     "name": "stdout",
     "output_type": "stream",
     "text": [
      "5.0 + 3.0 = 8.0\n",
      "5.0 - 3.0 = 2.0\n",
      "5.0 * 3.0 = 15.0\n",
      "5.0 / 3.0 = 1.6666666666666667\n"
     ]
    }
   ],
   "source": [
    "num1 = float(input(\"첫번째 숫자를 입력하세요: \"))\n",
    "num2 = float(input(\"두번째 숫자를 입력하세요: \"))\n",
    "\n",
    "print(f\"{num1} + {num2} = {num1 + num2}\")\n",
    "print(f\"{num1} - {num2} = {num1 - num2}\")\n",
    "print(f\"{num1} * {num2} = {num1 * num2}\")\n",
    "print(f\"{num1} / {num2} = {num1 / num2}\")"
   ]
  },
  {
   "cell_type": "markdown",
   "id": "99745e86-9dc3-4297-90e8-a5fe6c7387fa",
   "metadata": {},
   "source": [
    "나: f의 의미\n",
    "chatGPT: f 문자는 파이썬의 f-string(f-문자열)을 나타내며, Python 3.6 이상에서 사용할 수 있는 기능이야. f-string을 사용하면 중괄호 {} 안에 직접 변수 이름이나 표현식을 넣어 문자열 안에 동적으로 값을 삽입할 수 있어. 이 방법은 코드를 보다 읽기 쉽고 간결하게 만들어 줘.\n",
    "\n",
    "이렇게 하나 알아갔다~"
   ]
  },
  {
   "cell_type": "markdown",
   "id": "9d164ade-f076-4c15-b3fa-6b9ec2462e99",
   "metadata": {},
   "source": [
    "실습 문제 2: 문자열 조작\n",
    "사용자로부터 이름과 성을 입력받아, 전체 이름을 출력하는 프로그램을 작성해보자.\n",
    "사용자의 이름 사이에 공백을 넣어 전체 이름을 올바르게 출력하도록 해보자."
   ]
  },
  {
   "cell_type": "code",
   "execution_count": 22,
   "id": "fcaba244-087f-4b2a-be3e-af4729877330",
   "metadata": {},
   "outputs": [
    {
     "name": "stdin",
     "output_type": "stream",
     "text": [
      "이름을 입력하세요:  yoon\n",
      "성을 입력하세요:  an\n"
     ]
    },
    {
     "name": "stdout",
     "output_type": "stream",
     "text": [
      "이름: yoon an\n"
     ]
    }
   ],
   "source": [
    "frist_n = input(\"이름을 입력하세요: \")\n",
    "last_n = input(\"성을 입력하세요: \")\n",
    "\n",
    "full_n = frist_n +\" \" + last_n\n",
    "print(f\"이름: {full_n}\")"
   ]
  },
  {
   "cell_type": "markdown",
   "id": "a8957679-08c1-4ecf-a9a1-26b4e36aec3d",
   "metadata": {},
   "source": [
    "사용자로부터 숫자 하나를 입력받아, 이 숫자가 양수인지, 음수인지, 아니면 0인지를 판별하는 프로그램을 작성해보자.\n",
    "추가로, 입력받은 숫자가 짝수인지 홀수인지도 판별해보자."
   ]
  },
  {
   "cell_type": "code",
   "execution_count": 35,
   "id": "dd223814-8593-4fe5-a8f9-c526e3f7ca37",
   "metadata": {
    "scrolled": true
   },
   "outputs": [
    {
     "name": "stdin",
     "output_type": "stream",
     "text": [
      "숫자를 입력하세요:  0\n"
     ]
    },
    {
     "name": "stdout",
     "output_type": "stream",
     "text": [
      "0입니다.\n",
      "짝수입니다.\n"
     ]
    }
   ],
   "source": [
    "n1 = int(input(\"숫자를 입력하세요: \"))\n",
    "\n",
    "\n",
    "if n1 > 0:\n",
    "    print(\"양수입니다.\")\n",
    "elif n1 < 0:\n",
    "    print(\"음수입니다.\")\n",
    "else:\n",
    "    print(\"0입니다.\")\n",
    "\n",
    "\n",
    "if n1 % 2 == 0:\n",
    "    print(\"짝수입니다.\")\n",
    "else:\n",
    "    print(\"홀수입니다.\")"
   ]
  },
  {
   "cell_type": "code",
   "execution_count": null,
   "id": "9c8a3c29-399c-40fa-a9f9-44874391121e",
   "metadata": {},
   "outputs": [],
   "source": []
  },
  {
   "cell_type": "code",
   "execution_count": null,
   "id": "d970ad9b-48e0-4fc1-a310-af0ae6f9007e",
   "metadata": {},
   "outputs": [],
   "source": []
  },
  {
   "cell_type": "code",
   "execution_count": null,
   "id": "aea0e0e4-cf28-47dc-8434-a589dfaa79e4",
   "metadata": {},
   "outputs": [],
   "source": []
  },
  {
   "cell_type": "code",
   "execution_count": null,
   "id": "cf92989c-6214-4a08-bbb7-19710b4058c0",
   "metadata": {},
   "outputs": [],
   "source": []
  },
  {
   "cell_type": "code",
   "execution_count": null,
   "id": "64d81634-7298-4d40-b901-ea3c102f6f48",
   "metadata": {},
   "outputs": [],
   "source": []
  }
 ],
 "metadata": {
  "kernelspec": {
   "display_name": "Python 3 (ipykernel)",
   "language": "python",
   "name": "python3"
  },
  "language_info": {
   "codemirror_mode": {
    "name": "ipython",
    "version": 3
   },
   "file_extension": ".py",
   "mimetype": "text/x-python",
   "name": "python",
   "nbconvert_exporter": "python",
   "pygments_lexer": "ipython3",
   "version": "3.12.2"
  }
 },
 "nbformat": 4,
 "nbformat_minor": 5
}
